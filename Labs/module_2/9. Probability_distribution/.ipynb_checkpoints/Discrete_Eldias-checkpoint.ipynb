{
 "cells": [
  {
   "cell_type": "markdown",
   "metadata": {
    "id": "ehbaTMt5ebqq"
   },
   "source": [
    "# Before your start:\n",
    "\n",
    "    Read the README.md file\n",
    "    Comment as much as you can and use the resources (README.md file)\n",
    "    Happy learning!\n",
    "\n",
    "*Notes:* \n",
    "\n",
    "- Solve the questions with python.\n",
    "\n",
    "- Round the final answer to three decimal places."
   ]
  },
  {
   "cell_type": "markdown",
   "metadata": {
    "id": "oO6u5Q-6ebq_"
   },
   "source": [
    "## Bernoulli's Distribution\n",
    "\n",
    "In a basket containing 100 fruits, there are 60 apples and 40 oranges. \n",
    "\n",
    "A fruit is picked randomly from the basket. \n",
    "\n",
    "1. **What is the probability that the fruit is apple?**\n",
    "1. **What is the probability that it is an orange?**"
   ]
  },
  {
   "cell_type": "code",
   "execution_count": null,
   "metadata": {
    "id": "j7xZVPqBebrB"
   },
   "outputs": [],
   "source": [
    "\"\"\"\n",
    "Calculate:\n",
    "p = probability that the fruit is an apple \n",
    "q = probability that the fruit is an orange\n",
    "\"\"\"\n",
    "\n",
    "# your code here\n",
    "p=60/100\n",
    "q=1-p"
   ]
  },
  {
   "cell_type": "markdown",
   "metadata": {
    "id": "0yQwl-6cebrC"
   },
   "source": [
    "Now we take a random sample of 20 fruits from the basket. After each fruit is taken, a new fruit of the same type is placed in the basket. Therefore, every time we are taking 1 fruit from 100 fruits. \n",
    "\n",
    "1. **What is the probability that the first 5 fruits are all apples?**\n",
    "\n",
    "1. **What is the probability that the first 5 fruits are all apples and the next 15 fruits are all oranges?**\n",
    "\n",
    "You can include the `p` and `q` probabilities you previous calculated in your solution."
   ]
  },
  {
   "cell_type": "code",
   "execution_count": null,
   "metadata": {
    "id": "inURFW59ebrD",
    "outputId": "b7dd8d08-f666-4b53-dac6-38876dc860b2"
   },
   "outputs": [
    {
     "name": "stdout",
     "output_type": "stream",
     "text": [
      "#1: 0.078\n",
      "#2: 0.0\n"
     ]
    }
   ],
   "source": [
    "# your code here\n",
    "print('#1:',round(p**5,3))\n",
    "print('#2:',round(p**5*q**15,3))"
   ]
  },
  {
   "cell_type": "markdown",
   "metadata": {
    "id": "Zb685_75ebrF"
   },
   "source": [
    "## Binomial Distribution\n",
    "\n",
    "Similar to the above problem, this time again we randomly sample 20 fruits.\n",
    "\n",
    "**What is the probability that this time the sample contains 5 apples and 15 oranges?**\n",
    "\n",
    "Please note that this time the order of the fruits being picked does not matter."
   ]
  },
  {
   "cell_type": "markdown",
   "metadata": {
    "id": "7RvmdIhNhNka"
   },
   "source": [
    "$C_{20}^5 p^5 q^{15}$\n",
    "\n",
    "$C_{20}^5 = \\frac{20!}{5!15!}$\n",
    "\n",
    "\n",
    "$C_{20}^{15} p^5 q^{15}$\n",
    "\n",
    "$C_{20}^{15} = \\frac{20!}{5!15!}$"
   ]
  },
  {
   "cell_type": "code",
   "execution_count": null,
   "metadata": {
    "id": "dkSj-AifebrG"
   },
   "outputs": [],
   "source": [
    "# your code here\n",
    "#method 1\n",
    "def fac(x):\n",
    "    q=1\n",
    "    for i in range(1,x+1):\n",
    "        q*=i\n",
    "    return q"
   ]
  },
  {
   "cell_type": "code",
   "execution_count": null,
   "metadata": {
    "id": "WirZdtYeebrH",
    "outputId": "41f8c2db-eaef-47ec-9a34-709e5fab7d75"
   },
   "outputs": [
    {
     "data": {
      "text/plain": [
       "0.001"
      ]
     },
     "execution_count": 15,
     "metadata": {
      "tags": []
     },
     "output_type": "execute_result"
    }
   ],
   "source": [
    "round(fac(20)/(fac(5)*fac(15))*p**5*q**15,3)"
   ]
  },
  {
   "cell_type": "code",
   "execution_count": null,
   "metadata": {
    "id": "69sgRjr4ebrI",
    "outputId": "e47ca66c-e6b3-432a-cf7b-51aee59e3e93"
   },
   "outputs": [
    {
     "data": {
      "text/plain": [
       "0.001"
      ]
     },
     "execution_count": 17,
     "metadata": {
      "tags": []
     },
     "output_type": "execute_result"
    }
   ],
   "source": [
    "#method 2\n",
    "from scipy.stats import binom\n",
    "round(binom.pmf(5,20,p),3)\n",
    "round(binom.pmf(15,20,q),3)\n",
    "#NOTE: we get a small error due to calculation error (different amount of decimal points actually take place in calculations)"
   ]
  },
  {
   "cell_type": "markdown",
   "metadata": {
    "id": "qn2CoWfWebrK"
   },
   "source": [
    "In the lesson we also discussed CDF (cumulative distribution function). In the context of the above problem, **what is the probability that less than 5 fruits picked are apples?**\n",
    "\n",
    "Write the formula and calculate the probability below."
   ]
  },
  {
   "cell_type": "code",
   "execution_count": null,
   "metadata": {
    "id": "cxHpYx7LebrM",
    "outputId": "c04785d8-25ec-426e-8fbe-5f0a52572dd8"
   },
   "outputs": [
    {
     "data": {
      "text/plain": [
       "0.0"
      ]
     },
     "execution_count": 22,
     "metadata": {
      "tags": []
     },
     "output_type": "execute_result"
    }
   ],
   "source": [
    "# your code here\n",
    "#the easiest approach\n",
    "#important to note: cdf calculates P(x<=X), which means that we include the upper bound. Therefore, we need to calculate the one below\n",
    "round(binom.cdf(4,20,p),3)"
   ]
  },
  {
   "cell_type": "markdown",
   "metadata": {
    "id": "2MyDxWiiebrO"
   },
   "source": [
    "**Plot the PDF (probability distributiom function) for the above binomial distribution.**\n",
    "\n",
    "*Hint: The range of x in a binomial distribution is from `0` to `n`.*"
   ]
  },
  {
   "cell_type": "code",
   "execution_count": null,
   "metadata": {
    "id": "SyQRp0CEebrP",
    "outputId": "a6ae4388-807b-49d2-9407-392fcff6b53f"
   },
   "outputs": [
    {
     "data": {
      "image/png": "[encoded data removed]",
      "text/plain": [
       "<Figure size 432x288 with 1 Axes>"
      ]
     },
     "metadata": {
      "needs_background": "light",
      "tags": []
     },
     "output_type": "display_data"
    }
   ],
   "source": [
    "# your code here\n",
    "# Please label the axes and give a title to the plot\n",
    "x=range(21)\n",
    "import matplotlib.pyplot as plt\n",
    "plt.bar(x,binom.pmf(x,20,p))\n",
    "plt.grid()\n",
    "plt.title('Probability Mass Function of Binomial Distribution')\n",
    "plt.xlabel('number of apples')\n",
    "plt.ylabel('probability')\n",
    "plt.show()"
   ]
  },
  {
   "cell_type": "markdown",
   "metadata": {
    "id": "DsmI9-1HebrP"
   },
   "source": [
    "## Poisson Distribution\n",
    "\n",
    "In this challenge you are required to use the Math library in python to solve the problems.\n",
    "\n",
    "In the UEFA champions league tournament, the average number of goals scored in a match is 2.3. \n",
    "\n",
    "**What is the probability that the number of goals scored in a match is 5?**\n",
    "\n",
    "*Hint: Use the exp() in the math library*\n",
    "\n",
    "And to calculate the factorial, you can use the following code:\n",
    "\n",
    "```python\n",
    "import math\n",
    "math.factorial(n) # n is the number you want to find the factorial of\n",
    "```"
   ]
  },
  {
   "cell_type": "markdown",
   "metadata": {
    "id": "I8nbYnr9ebrQ"
   },
   "source": [
    "According to wiki: ${\\displaystyle {\\frac {\\lambda ^{k}e^{-\\lambda }}{k!}}}$"
   ]
  },
  {
   "cell_type": "code",
   "execution_count": null,
   "metadata": {
    "id": "TNjawOAgebrR",
    "outputId": "ecefda0c-54a4-4ce8-b25c-e8200b6d24d9"
   },
   "outputs": [
    {
     "data": {
      "text/plain": [
       "0.054"
      ]
     },
     "execution_count": 33,
     "metadata": {
      "tags": []
     },
     "output_type": "execute_result"
    }
   ],
   "source": [
    "# your code here \n",
    "#method 1\n",
    "import numpy as np\n",
    "lambd=2.3\n",
    "round(lambd**5*np.exp(-lambd)/fac(5),3)"
   ]
  },
  {
   "cell_type": "code",
   "execution_count": null,
   "metadata": {
    "id": "Pvc3q0TuebrS",
    "outputId": "3f2ca114-ea5e-4216-fe1c-478b8be7a083"
   },
   "outputs": [
    {
     "data": {
      "text/plain": [
       "0.054"
      ]
     },
     "execution_count": 32,
     "metadata": {
      "tags": []
     },
     "output_type": "execute_result"
    }
   ],
   "source": [
    "#method 2\n",
    "from scipy.stats import poisson\n",
    "round(poisson.pmf(5,2.3),3)"
   ]
  },
  {
   "cell_type": "markdown",
   "metadata": {
    "id": "A24dnMHbebrT"
   },
   "source": [
    "**Draw a poisson probability distribution plot for the number of goals to be between 0 to 10.**"
   ]
  },
  {
   "cell_type": "code",
   "execution_count": null,
   "metadata": {
    "id": "CFxlE_zNebrT",
    "outputId": "929c3370-111b-4950-8fd6-61c2e9b198aa"
   },
   "outputs": [
    {
     "data": {
      "image/png": "[encoded data removed]",
      "text/plain": [
       "<Figure size 432x288 with 1 Axes>"
      ]
     },
     "metadata": {
      "needs_background": "light",
      "tags": []
     },
     "output_type": "display_data"
    }
   ],
   "source": [
    "# your code here\n",
    "# Please label the axes and give a title to the plot \n",
    "x=range(21)\n",
    "import matplotlib.pyplot as plt\n",
    "plt.bar(x,poisson.pmf(x,2.3))\n",
    "plt.grid()\n",
    "plt.title('Probability Mass Function of Poisson Distribution')\n",
    "plt.xlabel('number of goals')\n",
    "plt.ylabel('probability')\n",
    "plt.show()"
   ]
  }
 ],
 "metadata": {
  "colab": {
   "name": "Discrete.ipynb",
   "provenance": []
  },
  "kernelspec": {
   "display_name": "Python 3",
   "language": "python",
   "name": "python3"
  },
  "language_info": {
   "codemirror_mode": {
    "name": "ipython",
    "version": 3
   },
   "file_extension": ".py",
   "mimetype": "text/x-python",
   "name": "python",
   "nbconvert_exporter": "python",
   "pygments_lexer": "ipython3",
   "version": "3.8.3"
  }
 },
 "nbformat": 4,
 "nbformat_minor": 1
}
