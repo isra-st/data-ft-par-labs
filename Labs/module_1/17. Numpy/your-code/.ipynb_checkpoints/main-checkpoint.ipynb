{
 "cells": [
  {
   "cell_type": "markdown",
   "metadata": {},
   "source": [
    "# Intrduction to NumPy\n",
    "\n",
    "\n",
    "#### 1. Import NumPy under the name np."
   ]
  },
  {
   "cell_type": "code",
   "execution_count": 1,
   "metadata": {},
   "outputs": [],
   "source": [
    "# your code here\n",
    "import numpy as np"
   ]
  },
  {
   "cell_type": "markdown",
   "metadata": {},
   "source": [
    "#### 2. Print your NumPy version."
   ]
  },
  {
   "cell_type": "code",
   "execution_count": 5,
   "metadata": {},
   "outputs": [
    {
     "name": "stdout",
     "output_type": "stream",
     "text": [
      "1.20.1\n"
     ]
    }
   ],
   "source": [
    "# your code here\n",
    "print(np.__version__)"
   ]
  },
  {
   "cell_type": "markdown",
   "metadata": {},
   "source": [
    "#### 3. Generate a 2x3x5 3-dimensional array with random values. Assign the array to variable *a*.\n",
    "**Challenge**: there are at least three easy ways that use numpy to generate random arrays. How many ways can you find?"
   ]
  },
  {
   "cell_type": "code",
   "execution_count": 8,
   "metadata": {},
   "outputs": [
    {
     "data": {
      "text/plain": [
       "array([[[0.23739542, 0.377901  , 0.82823579, 0.0514464 , 0.10241535],\n",
       "        [0.77888235, 0.21533876, 0.33902446, 0.30653142, 0.95813074],\n",
       "        [0.46063815, 0.70937847, 0.93192548, 0.70874847, 0.26882826]],\n",
       "\n",
       "       [[0.2859097 , 0.68709116, 0.86845624, 0.86151354, 0.17893131],\n",
       "        [0.97398652, 0.68279205, 0.67466591, 0.73644743, 0.29106712],\n",
       "        [0.28085006, 0.1954326 , 0.12831448, 0.23486764, 0.08830728]]])"
      ]
     },
     "execution_count": 8,
     "metadata": {},
     "output_type": "execute_result"
    }
   ],
   "source": [
    "# Method 1\n",
    "a = np.random.random((2,3,5))\n",
    "a"
   ]
  },
  {
   "cell_type": "code",
   "execution_count": null,
   "metadata": {},
   "outputs": [],
   "source": [
    "# Method 2\n"
   ]
  },
  {
   "cell_type": "code",
   "execution_count": null,
   "metadata": {},
   "outputs": [],
   "source": [
    "# Method 3"
   ]
  },
  {
   "cell_type": "markdown",
   "metadata": {},
   "source": [
    "#### 4. Print *a*.\n"
   ]
  },
  {
   "cell_type": "code",
   "execution_count": 9,
   "metadata": {},
   "outputs": [
    {
     "name": "stdout",
     "output_type": "stream",
     "text": [
      "[[[0.23739542 0.377901   0.82823579 0.0514464  0.10241535]\n",
      "  [0.77888235 0.21533876 0.33902446 0.30653142 0.95813074]\n",
      "  [0.46063815 0.70937847 0.93192548 0.70874847 0.26882826]]\n",
      "\n",
      " [[0.2859097  0.68709116 0.86845624 0.86151354 0.17893131]\n",
      "  [0.97398652 0.68279205 0.67466591 0.73644743 0.29106712]\n",
      "  [0.28085006 0.1954326  0.12831448 0.23486764 0.08830728]]]\n"
     ]
    }
   ],
   "source": [
    "print(a)"
   ]
  },
  {
   "cell_type": "markdown",
   "metadata": {},
   "source": [
    "#### 5. Create a 5x2x3 3-dimensional array with all values equaling 1. Assign the array to variable *b*."
   ]
  },
  {
   "cell_type": "code",
   "execution_count": 28,
   "metadata": {},
   "outputs": [],
   "source": [
    "# your code here\n",
    "#np.random.randint(0, 100, size=(30, 10, 2))\n",
    "b = np.random.randint(1, 2, size=(5,2,3))"
   ]
  },
  {
   "cell_type": "code",
   "execution_count": 191,
   "metadata": {},
   "outputs": [],
   "source": [
    "b=np.ones((5,2,3))"
   ]
  },
  {
   "cell_type": "code",
   "execution_count": null,
   "metadata": {},
   "outputs": [],
   "source": []
  },
  {
   "cell_type": "markdown",
   "metadata": {},
   "source": [
    "#### 6. Print *b*.\n"
   ]
  },
  {
   "cell_type": "code",
   "execution_count": 29,
   "metadata": {},
   "outputs": [
    {
     "data": {
      "text/plain": [
       "array([[[1, 1, 1],\n",
       "        [1, 1, 1]],\n",
       "\n",
       "       [[1, 1, 1],\n",
       "        [1, 1, 1]],\n",
       "\n",
       "       [[1, 1, 1],\n",
       "        [1, 1, 1]],\n",
       "\n",
       "       [[1, 1, 1],\n",
       "        [1, 1, 1]],\n",
       "\n",
       "       [[1, 1, 1],\n",
       "        [1, 1, 1]]])"
      ]
     },
     "execution_count": 29,
     "metadata": {},
     "output_type": "execute_result"
    }
   ],
   "source": [
    "# your code here\n",
    "b"
   ]
  },
  {
   "cell_type": "markdown",
   "metadata": {},
   "source": [
    "#### 7. Do *a* and *b* have the same size? How do you prove that in Python code?"
   ]
  },
  {
   "cell_type": "code",
   "execution_count": 39,
   "metadata": {},
   "outputs": [
    {
     "name": "stdout",
     "output_type": "stream",
     "text": [
      "len a is 2\n",
      "len b is 5\n",
      "30\n",
      "30\n"
     ]
    }
   ],
   "source": [
    "# your code here\n",
    "a.size == b.size\n",
    "\n",
    "print('len a is', len(a))\n",
    "print('len b is', len(b))\n",
    "print(a.size)\n",
    "print(b.size)"
   ]
  },
  {
   "cell_type": "markdown",
   "metadata": {},
   "source": [
    "#### 8. Are you able to add *a* and *b*? Why or why not?\n"
   ]
  },
  {
   "cell_type": "code",
   "execution_count": 44,
   "metadata": {},
   "outputs": [
    {
     "name": "stdout",
     "output_type": "stream",
     "text": [
      " (2, 3, 5) a.shape\n",
      " (5, 2, 3) b.shape\n"
     ]
    }
   ],
   "source": [
    "# your answer here\n",
    "\n",
    "print(f' {a.shape} a.shape')\n",
    "print(f' {b.shape} b.shape')\n",
    "\n",
    "\n",
    "#a + b #operands could not be broadcast together with shapes (2,3,5) (5,2,3) \n",
    "\n",
    "#for + operation with matrix they need to have the shame shape."
   ]
  },
  {
   "cell_type": "markdown",
   "metadata": {},
   "source": [
    "#### 9. Transpose *b* so that it has the same structure of *a* (i.e. become a 2x3x5 array). Assign the transposed array to variable *c*."
   ]
  },
  {
   "cell_type": "code",
   "execution_count": 68,
   "metadata": {},
   "outputs": [
    {
     "data": {
      "text/plain": [
       "array([[[1, 1, 1],\n",
       "        [1, 1, 1]],\n",
       "\n",
       "       [[1, 1, 1],\n",
       "        [1, 1, 1]],\n",
       "\n",
       "       [[1, 1, 1],\n",
       "        [1, 1, 1]],\n",
       "\n",
       "       [[1, 1, 1],\n",
       "        [1, 1, 1]],\n",
       "\n",
       "       [[1, 1, 1],\n",
       "        [1, 1, 1]]])"
      ]
     },
     "execution_count": 68,
     "metadata": {},
     "output_type": "execute_result"
    }
   ],
   "source": [
    "b"
   ]
  },
  {
   "cell_type": "code",
   "execution_count": 193,
   "metadata": {},
   "outputs": [],
   "source": [
    "# your code here\n",
    "#np.transpose(x, (1, 0, 2)).shape\n",
    "#>>> arr.strides\n",
    "#>>> arr.transpose(1, 0, 2).strides\n",
    "#c = b.transpose(2,3,5).strides\n",
    "\n",
    "c = b.reshape(2,3,5)\n",
    "c = b.transpose((1,2,0))\n",
    "\n",
    "#5,2,3\n",
    "#0,1,2\n",
    "\n",
    "#2,3,5\n",
    "#1,2,0"
   ]
  },
  {
   "cell_type": "markdown",
   "metadata": {},
   "source": [
    "#### 10. Try to add *a* and *c*. Now it should work. Assign the sum to variable *d*. But why does it work now?"
   ]
  },
  {
   "cell_type": "code",
   "execution_count": 75,
   "metadata": {},
   "outputs": [
    {
     "name": "stdout",
     "output_type": "stream",
     "text": [
      "[[[0.23739542 0.377901   0.82823579 0.0514464  0.10241535]\n",
      "  [0.77888235 0.21533876 0.33902446 0.30653142 0.95813074]\n",
      "  [0.46063815 0.70937847 0.93192548 0.70874847 0.26882826]]\n",
      "\n",
      " [[0.2859097  0.68709116 0.86845624 0.86151354 0.17893131]\n",
      "  [0.97398652 0.68279205 0.67466591 0.73644743 0.29106712]\n",
      "  [0.28085006 0.1954326  0.12831448 0.23486764 0.08830728]]]\n",
      "[[[1 1 1 1 1]\n",
      "  [1 1 1 1 1]\n",
      "  [1 1 1 1 1]]\n",
      "\n",
      " [[1 1 1 1 1]\n",
      "  [1 1 1 1 1]\n",
      "  [1 1 1 1 1]]]\n"
     ]
    }
   ],
   "source": [
    "# your code/answer her\n",
    "print(a)\n",
    "print(c)\n",
    "d = a+c\n",
    "\n",
    "#they have the same shape"
   ]
  },
  {
   "cell_type": "markdown",
   "metadata": {},
   "source": [
    "#### 11. Print *a* and *d*. Notice the difference and relation of the two array in terms of the values? Explain."
   ]
  },
  {
   "cell_type": "code",
   "execution_count": 92,
   "metadata": {},
   "outputs": [
    {
     "name": "stdout",
     "output_type": "stream",
     "text": [
      " This is a \n",
      " [[[0.23739542 0.377901   0.82823579 0.0514464  0.10241535]\n",
      "  [0.77888235 0.21533876 0.33902446 0.30653142 0.95813074]\n",
      "  [0.46063815 0.70937847 0.93192548 0.70874847 0.26882826]]\n",
      "\n",
      " [[0.2859097  0.68709116 0.86845624 0.86151354 0.17893131]\n",
      "  [0.97398652 0.68279205 0.67466591 0.73644743 0.29106712]\n",
      "  [0.28085006 0.1954326  0.12831448 0.23486764 0.08830728]]]\n",
      "\n",
      "\n",
      "  This is d \n",
      " [[[1.23739542 1.377901   1.82823579 1.0514464  1.10241535]\n",
      "  [1.77888235 1.21533876 1.33902446 1.30653142 1.95813074]\n",
      "  [1.46063815 1.70937847 1.93192548 1.70874847 1.26882826]]\n",
      "\n",
      " [[1.2859097  1.68709116 1.86845624 1.86151354 1.17893131]\n",
      "  [1.97398652 1.68279205 1.67466591 1.73644743 1.29106712]\n",
      "  [1.28085006 1.1954326  1.12831448 1.23486764 1.08830728]]]\n"
     ]
    }
   ],
   "source": [
    "# your code/answer here\n",
    "print(f' This is a \\n {a}')\n",
    "print('\\n')\n",
    "print(f'  This is d \\n {d}')\n",
    "\n",
    "#All the values of d has been added by 1"
   ]
  },
  {
   "cell_type": "markdown",
   "metadata": {},
   "source": [
    "#### 12. Multiply *a* and *c*. Assign the result to *e*."
   ]
  },
  {
   "cell_type": "code",
   "execution_count": 207,
   "metadata": {},
   "outputs": [
    {
     "name": "stdout",
     "output_type": "stream",
     "text": [
      " This is a \n",
      " [[[0.23739542 0.377901   0.82823579 0.0514464  0.10241535]\n",
      "  [0.77888235 0.21533876 0.33902446 0.30653142 0.95813074]\n",
      "  [0.46063815 0.70937847 0.93192548 0.70874847 0.26882826]]\n",
      "\n",
      " [[0.2859097  0.68709116 0.86845624 0.86151354 0.17893131]\n",
      "  [0.97398652 0.68279205 0.67466591 0.73644743 0.29106712]\n",
      "  [0.28085006 0.1954326  0.12831448 0.23486764 0.08830728]]]\n",
      "\n",
      "\n",
      "  This is c \n",
      " [[[1.23739542 1.377901   1.82823579 1.0514464  1.10241535]\n",
      "  [1.77888235 1.21533876 1.33902446 1.30653142 1.95813074]\n",
      "  [1.46063815 1.70937847 1.93192548 1.70874847 1.26882826]]\n",
      "\n",
      " [[1.2859097  1.68709116 1.86845624 1.86151354 1.17893131]\n",
      "  [1.97398652 1.68279205 1.67466591 1.73644743 1.29106712]\n",
      "  [1.28085006 1.1954326  1.12831448 1.23486764 1.08830728]]]\n",
      "\n",
      "\n",
      "  This is e \n",
      " [[[0.23739542 0.377901   0.82823579 0.0514464  0.10241535]\n",
      "  [0.77888235 0.21533876 0.33902446 0.30653142 0.95813074]\n",
      "  [0.46063815 0.70937847 0.93192548 0.70874847 0.26882826]]\n",
      "\n",
      " [[0.2859097  0.68709116 0.86845624 0.86151354 0.17893131]\n",
      "  [0.97398652 0.68279205 0.67466591 0.73644743 0.29106712]\n",
      "  [0.28085006 0.1954326  0.12831448 0.23486764 0.08830728]]]\n"
     ]
    }
   ],
   "source": [
    "# your code here\n",
    "print(f' This is a \\n {a}')\n",
    "print('\\n')\n",
    "print(f'  This is c \\n {d}')\n",
    "e = np.multiply(a,c)\n",
    "print('\\n')\n",
    "print(f'  This is e \\n {e}')"
   ]
  },
  {
   "cell_type": "markdown",
   "metadata": {},
   "source": [
    "#### 13. Does *e* equal to *a*? Why or why not?\n"
   ]
  },
  {
   "cell_type": "code",
   "execution_count": 208,
   "metadata": {},
   "outputs": [
    {
     "name": "stdout",
     "output_type": "stream",
     "text": [
      "[[[ True  True  True  True  True]\n",
      "  [ True  True  True  True  True]\n",
      "  [ True  True  True  True  True]]\n",
      "\n",
      " [[ True  True  True  True  True]\n",
      "  [ True  True  True  True  True]\n",
      "  [ True  True  True  True  True]]]\n"
     ]
    }
   ],
   "source": [
    "# your code/answer here\n",
    "\n",
    "print(a==e)\n",
    "\n",
    "# 1 * somthing is = somthing "
   ]
  },
  {
   "cell_type": "markdown",
   "metadata": {},
   "source": [
    "#### 14. Identify the max, min, and mean values in *d*. Assign those values to variables *d_max*, *d_min* and *d_mean*."
   ]
  },
  {
   "cell_type": "code",
   "execution_count": 209,
   "metadata": {},
   "outputs": [
    {
     "name": "stdout",
     "output_type": "stream",
     "text": [
      "Max of d is \n",
      " 1.9739865198488338\n",
      "Min of d is \n",
      " 1.0514464018892304\n",
      "Mean of d is \n",
      " 1.4814484508481633\n"
     ]
    }
   ],
   "source": [
    "# your code here\n",
    "print(f'Max of d is \\n {np.max(d)}')\n",
    "print(f'Min of d is \\n {np.min(d)}')\n",
    "print(f'Mean of d is \\n {np.mean(d)}')\n",
    "\n",
    "d_max = np.max(d)\n",
    "d_min = np.min(d)\n",
    "d_mean = np.mean(d)"
   ]
  },
  {
   "cell_type": "markdown",
   "metadata": {},
   "source": [
    "#### 15. Now we want to label the values in *d*. First create an empty array *f* with the same shape (i.e. 2x3x5) as *d* using `np.empty`.\n"
   ]
  },
  {
   "cell_type": "code",
   "execution_count": 210,
   "metadata": {},
   "outputs": [
    {
     "name": "stdout",
     "output_type": "stream",
     "text": [
      "[[[0.23739542 0.377901   0.82823579 0.0514464  0.10241535]\n",
      "  [0.77888235 0.21533876 0.33902446 0.30653142 0.95813074]\n",
      "  [0.46063815 0.70937847 0.93192548 0.70874847 0.26882826]]\n",
      "\n",
      " [[0.2859097  0.68709116 0.86845624 0.86151354 0.17893131]\n",
      "  [0.97398652 0.68279205 0.67466591 0.73644743 0.29106712]\n",
      "  [0.28085006 0.1954326  0.12831448 0.23486764 0.08830728]]]\n"
     ]
    }
   ],
   "source": [
    "# your code here\n",
    "#numpy.empty(shape, dtype=float, order='C', *, like=None)\n",
    "f = np.empty(shape=(2,3,5))\n",
    "print(f)\n"
   ]
  },
  {
   "cell_type": "markdown",
   "metadata": {},
   "source": [
    "#### 16. Populate the values in *f*. \n",
    "\n",
    "For each value in *d*, if it's larger than *d_min* but smaller than *d_mean*, assign 25 to the corresponding value in *f*. If a value in *d* is larger than *d_mean* but smaller than *d_max*, assign 75 to the corresponding value in *f*. If a value equals to *d_mean*, assign 50 to the corresponding value in *f*. Assign 0 to the corresponding value(s) in *f* for *d_min* in *d*. Assign 100 to the corresponding value(s) in *f* for *d_max* in *d*. In the end, f should have only the following values: 0, 25, 50, 75, and 100.\n",
    "\n",
    "**Note**: you don't have to use Numpy in this question."
   ]
  },
  {
   "cell_type": "code",
   "execution_count": 211,
   "metadata": {},
   "outputs": [
    {
     "data": {
      "text/plain": [
       "array([[[ 25.,  25.,  75.,   0.,  25.],\n",
       "        [ 75.,  25.,  25.,  25.,  75.],\n",
       "        [ 25.,  75.,  75.,  75.,  25.]],\n",
       "\n",
       "       [[ 25.,  75.,  75.,  75.,  25.],\n",
       "        [100.,  75.,  75.,  75.,  25.],\n",
       "        [ 25.,  25.,  25.,  25.,  25.]]])"
      ]
     },
     "execution_count": 211,
     "metadata": {},
     "output_type": "execute_result"
    }
   ],
   "source": [
    "f=np.where(d==d_max,100,d)\n",
    "f=np.where(d<d_max,75,f)\n",
    "f=np.where(d==d_mean,50,f)\n",
    "f=np.where(d<d_mean,25,f)\n",
    "f=np.where(d==d_min,0,f)\n",
    "\n",
    "f\n"
   ]
  },
  {
   "cell_type": "markdown",
   "metadata": {},
   "source": [
    "#### 17. Print *d* and *f*. Do you have your expected *f*?\n",
    "For instance, if your *d* is:\n",
    "```python\n",
    "[[[1.85836099, 1.67064465, 1.62576044, 1.40243961, 1.88454931],\n",
    "[1.75354326, 1.69403643, 1.36729252, 1.61415071, 1.12104981],\n",
    "[1.72201435, 1.1862918 , 1.87078449, 1.7726778 , 1.88180042]],\n",
    "[[1.44747908, 1.31673383, 1.02000951, 1.52218947, 1.97066381],\n",
    "[1.79129243, 1.74983003, 1.96028037, 1.85166831, 1.65450881],\n",
    "[1.18068344, 1.9587381 , 1.00656599, 1.93402165, 1.73514584]]]\n",
    "```\n",
    "Your *f* should be:\n",
    "```python\n",
    "[[[ 75.,  75.,  75.,  25.,  75.],\n",
    "[ 75.,  75.,  25.,  25.,  25.],\n",
    "[ 75.,  25.,  75.,  75.,  75.]],\n",
    "[[ 25.,  25.,  25.,  25., 100.],\n",
    "[ 75.,  75.,  75.,  75.,  75.],\n",
    "[ 25.,  75.,   0.,  75.,  75.]]]\n",
    "```"
   ]
  },
  {
   "cell_type": "code",
   "execution_count": 213,
   "metadata": {},
   "outputs": [
    {
     "name": "stdout",
     "output_type": "stream",
     "text": [
      "[[[1.23739542 1.377901   1.82823579 1.0514464  1.10241535]\n",
      "  [1.77888235 1.21533876 1.33902446 1.30653142 1.95813074]\n",
      "  [1.46063815 1.70937847 1.93192548 1.70874847 1.26882826]]\n",
      "\n",
      " [[1.2859097  1.68709116 1.86845624 1.86151354 1.17893131]\n",
      "  [1.97398652 1.68279205 1.67466591 1.73644743 1.29106712]\n",
      "  [1.28085006 1.1954326  1.12831448 1.23486764 1.08830728]]]\n",
      "[[[ 25.  25.  75.   0.  25.]\n",
      "  [ 75.  25.  25.  25.  75.]\n",
      "  [ 25.  75.  75.  75.  25.]]\n",
      "\n",
      " [[ 25.  75.  75.  75.  25.]\n",
      "  [100.  75.  75.  75.  25.]\n",
      "  [ 25.  25.  25.  25.  25.]]]\n"
     ]
    }
   ],
   "source": [
    "# your code here\n",
    "\n",
    "print(d)\n",
    "print(f)"
   ]
  },
  {
   "cell_type": "markdown",
   "metadata": {},
   "source": [
    "#### 18. Bonus question: instead of using numbers (i.e. 0, 25, 50, 75, and 100), use string values  (\"A\", \"B\", \"C\", \"D\", and \"E\") to label the array elements. For the example above, the expected result is:\n",
    "\n",
    "```python\n",
    "[[[ 'D',  'D',  'D',  'B',  'D'],\n",
    "[ 'D',  'D',  'B',  'B',  'B'],\n",
    "[ 'D',  'B',  'D',  'D',  'D']],\n",
    "[[ 'B',  'B',  'B',  'B',  'E'],\n",
    "[ 'D',  'D',  'D',  'D',  'D'],\n",
    "[ 'B',  'D',   'A',  'D', 'D']]]\n",
    "```\n",
    "**Note**: you don't have to use Numpy in this question."
   ]
  },
  {
   "cell_type": "code",
   "execution_count": 212,
   "metadata": {},
   "outputs": [
    {
     "data": {
      "text/plain": [
       "array([[['B', 'B', 'D', 'A', 'B'],\n",
       "        ['D', 'B', 'B', 'B', 'D'],\n",
       "        ['B', 'D', 'D', 'D', 'B']],\n",
       "\n",
       "       [['B', 'D', 'D', 'D', 'B'],\n",
       "        ['E', 'D', 'D', 'D', 'B'],\n",
       "        ['B', 'B', 'B', 'B', 'B']]], dtype='<U32')"
      ]
     },
     "execution_count": 212,
     "metadata": {},
     "output_type": "execute_result"
    }
   ],
   "source": [
    "# your code here\n",
    "g=np.where(f==100,'E',f)\n",
    "g=np.where(f==75,'D',g)\n",
    "g=np.where(f==50,'C',g)\n",
    "g=np.where(f==25,'B',g)\n",
    "g=np.where(f==0,'A',g)\n",
    "g"
   ]
  }
 ],
 "metadata": {
  "kernelspec": {
   "display_name": "Python 3",
   "language": "python",
   "name": "python3"
  },
  "language_info": {
   "codemirror_mode": {
    "name": "ipython",
    "version": 3
   },
   "file_extension": ".py",
   "mimetype": "text/x-python",
   "name": "python",
   "nbconvert_exporter": "python",
   "pygments_lexer": "ipython3",
   "version": "3.8.3"
  }
 },
 "nbformat": 4,
 "nbformat_minor": 2
}
